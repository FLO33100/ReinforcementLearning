{
 "cells": [
  {
   "cell_type": "markdown",
   "metadata": {},
   "source": [
    "# Create and visualize datasets"
   ]
  },
  {
   "cell_type": "code",
   "execution_count": 1,
   "metadata": {},
   "outputs": [],
   "source": [
    "import numpy as np, pandas as pd\n",
    "import ta\n",
    "\n",
    "# import sys\n",
    "# sys.path.append('../scripts/')\n",
    "\n",
    "from backtest_utils import *"
   ]
  },
  {
   "cell_type": "markdown",
   "metadata": {},
   "source": [
    "### Load from raw data"
   ]
  },
  {
   "cell_type": "code",
   "execution_count": 2,
   "metadata": {},
   "outputs": [],
   "source": [
    "complete_data = pd.read_csv('data/test.csv')\n",
    "rolling_pca_data = pd.read_csv('data/rolling_pca.csv', index_col=0, parse_dates=['date'])"
   ]
  },
  {
   "cell_type": "markdown",
   "metadata": {},
   "source": [
    "### Transform raw data into proper signal-full data"
   ]
  },
  {
   "cell_type": "code",
   "execution_count": 3,
   "metadata": {},
   "outputs": [],
   "source": [
    "df, train, test = get_workable_data(complete_data)\n",
    "\n",
    "df_benchmark = pd.DataFrame(df.Equi_weighted).copy()\n",
    "\n",
    "df_prices = df.iloc[:,:6].copy().fillna(method='ffill') #(2)\n",
    "\n",
    "df_prices = np.subtract(df_prices.pct_change(),df_benchmark.pct_change())\n",
    "for col in df_prices.columns :\n",
    "    df_prices[col + '_ema_20'] = df_prices[col].ewm(alpha=1/20, ignore_na=True).mean()\n",
    "    df_prices[col + '_ema_60'] = df_prices[col].ewm(alpha=1/60, ignore_na=True).mean()\n",
    "    del df_prices[col]\n",
    "    \n",
    "df_macros = df.iloc[:,6:15].copy().fillna(method='ffill') #(2)\n",
    "\n",
    "df_vol_signal = ema_and_signal(df_macros.iloc[:,:3], [20,30,40],[60,80,100])\n",
    "df_surprises_signal = ema_and_signal(df_macros.iloc[:,-4:], [20,30,40],[60,80,100])\n",
    "\n",
    "for col in df_macros.columns :\n",
    "    df_macros[col + '_ema_20'] = df_macros[col].rolling(window=20).mean()\n",
    "    df_macros[col + '_ema_60'] = df_macros[col].rolling(window=60).mean()\n",
    "    del df_macros[col]\n",
    "df_macros = (df_macros-df_macros.mean())/df_macros.std()\n",
    "\n",
    "#Only prices, transformed through relative return and exponential mooving average (20 and 60 days)\n",
    "dataset1 = pd.concat([df_prices, df_benchmark], axis=1).dropna()\n",
    "#Prices, transformed as above, and macros transformed in simple moving average (20 and 60 days), then standardised\n",
    "dataset2 = pd.concat([df_prices, df_macros, df_vol_signal, df_surprises_signal, df_benchmark], axis=1).dropna()\n",
    "#Only macros regarding volatility (UX and Barclays indicator), transformed as above\n",
    "dataset3 = pd.concat([df_macros.iloc[:, :6], df_vol_signal, df_benchmark], axis=1).dropna()\n",
    "#Only macros regarding economic surprises, transformed as above\n",
    "dataset4 = pd.concat([df_macros.iloc[:, -8:], df_surprises_signal, df_benchmark], axis=1).dropna()\n",
    "\n",
    "df, train, test = get_workable_data(complete_data)\n",
    "\n",
    "n_stoch = 20\n",
    "d_stoch = 10\n",
    "\n",
    "df_benchmark = pd.DataFrame(df.Equi_weighted).copy()\n",
    "\n",
    "df_prices = df.iloc[:,:6].copy().fillna(method='ffill') #(2)\n",
    "\n",
    "for col in df_prices.columns:\n",
    "    df_prices[col] = ta.momentum.stoch_signal(df_prices[col],df_prices[col],df_prices[col],\\\n",
    "                                              n=n_stoch, d_n=d_stoch, fillna=False)/100\n",
    "df_macros = df.iloc[:,6:15].copy().fillna(method='ffill') #(2)\n",
    "df_macros = (df_macros-df_macros.mean())/df_macros.std()\n",
    "\n",
    "#Macros standardized and prices transformed in stochastic\n",
    "dataset5 = pd.concat([df_prices, df_macros, df_benchmark], axis=1).dropna()\n",
    "\n",
    "#PCA of previous dataset, rolling (no forward-looking), using 4 factors (75% of variance)\n",
    "dataset6 = pd.concat([rolling_pca_data, df_benchmark], axis=1).dropna()\n",
    "\n",
    "#New macros standardized with prices still in stochastic\n",
    "new_macros = pd.read_csv('data/macroindicators_ms.csv', index_col = 0, parse_dates=['Date'])\n",
    "del new_macros['Trailing 12M Gross Margin \\n(SX5E Index)']\n",
    "new_macros = new_macros.fillna(method = 'ffill')\n",
    "new_macros = (new_macros-new_macros.mean())/new_macros.std()\n",
    "\n",
    "dataset7 = pd.concat([df_prices, new_macros, df_benchmark], axis=1).dropna()\n",
    "\n",
    "for df in [dataset1, dataset2, dataset3, dataset4, dataset5, dataset6, dataset7]:\n",
    "    df.Equi_weighted = df.Equi_weighted/df.Equi_weighted[0]*1000"
   ]
  },
  {
   "cell_type": "markdown",
   "metadata": {},
   "source": [
    "### To write"
   ]
  },
  {
   "cell_type": "code",
   "execution_count": 4,
   "metadata": {},
   "outputs": [],
   "source": [
    "# dataset1.to_csv('data/dataset1.csv')\n",
    "# dataset2.to_csv('data/dataset2.csv')\n",
    "# dataset3.to_csv('data/dataset3.csv')\n",
    "# dataset4.to_csv('data/dataset4.csv')\n",
    "# dataset5.to_csv('data/dataset5.csv')\n",
    "# dataset6.to_csv('data/dataset6.csv')\n",
    "# dataset7.to_csv('data/dataset7.csv')"
   ]
  },
  {
   "cell_type": "markdown",
   "metadata": {},
   "source": [
    "### To load"
   ]
  },
  {
   "cell_type": "code",
   "execution_count": 5,
   "metadata": {
    "scrolled": true
   },
   "outputs": [],
   "source": [
    "dataset1 = pd.read_csv('data/dataset1.csv', index_col=0)\n",
    "dataset2 = pd.read_csv('data/dataset2.csv', index_col=0)\n",
    "dataset3 = pd.read_csv('data/dataset3.csv', index_col=0)\n",
    "dataset4 = pd.read_csv('data/dataset4.csv', index_col=0)\n",
    "dataset5 = pd.read_csv('data/dataset5.csv', index_col=0)\n",
    "dataset6 = pd.read_csv('data/dataset6.csv', index_col=0)\n",
    "dataset7 = pd.read_csv('data/dataset7.csv', index_col=0)"
   ]
  }
 ],
 "metadata": {
  "kernelspec": {
   "display_name": "Python 3",
   "language": "python",
   "name": "python3"
  },
  "language_info": {
   "codemirror_mode": {
    "name": "ipython",
    "version": 3
   },
   "file_extension": ".py",
   "mimetype": "text/x-python",
   "name": "python",
   "nbconvert_exporter": "python",
   "pygments_lexer": "ipython3",
   "version": "3.7.3"
  }
 },
 "nbformat": 4,
 "nbformat_minor": 2
}
